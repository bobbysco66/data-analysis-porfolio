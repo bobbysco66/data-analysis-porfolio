{
  "nbformat": 4,
  "nbformat_minor": 0,
  "metadata": {
    "colab": {
      "provenance": [],
      "collapsed_sections": [],
      "toc_visible": true,
      "authorship_tag": "ABX9TyMOhVjuchPuccOpe3mmL0YS"
    },
    "kernelspec": {
      "name": "python3",
      "display_name": "Python 3"
    },
    "language_info": {
      "name": "python"
    }
  },
  "cells": [
    {
      "cell_type": "markdown",
      "source": [
        "Run R code in Google Colab"
      ],
      "metadata": {
        "id": "otqIiA0kniDA"
      }
    },
    {
      "cell_type": "code",
      "execution_count": 3,
      "metadata": {
        "id": "kBWXhGEMmaUq"
      },
      "outputs": [],
      "source": [
        "%load_ext rpy2.ipython"
      ]
    },
    {
      "cell_type": "markdown",
      "source": [
        "Installing R packages"
      ],
      "metadata": {
        "id": "ez8xOchsr3bY"
      }
    },
    {
      "cell_type": "code",
      "source": [
        "%%R\n",
        "install.packages('pdfetch')\n",
        "install.packages(\"tidyverse\")"
      ],
      "metadata": {
        "id": "s3IBTBZPmdwJ"
      },
      "execution_count": null,
      "outputs": []
    },
    {
      "cell_type": "code",
      "source": [
        "%%R \n",
        "library(ggplot2)\n",
        "library(pdfetch)\n",
        "Coca_Cola=pdfetch_YAHOO('KO')\n",
        "head(Coca_Cola)\n"
      ],
      "metadata": {
        "colab": {
          "base_uri": "https://localhost:8080/"
        },
        "id": "uQU3Kh2aoi-z",
        "outputId": "7e091cdb-2870-4ed3-b668-c354a0c16c71"
      },
      "execution_count": 18,
      "outputs": [
        {
          "output_type": "stream",
          "name": "stdout",
          "text": [
            "           KO.open KO.high KO.low KO.close KO.adjclose KO.volume\n",
            "2007-01-03  24.180  24.440 24.140   24.290    14.98633  15753400\n",
            "2007-01-04  24.210  24.350 24.125   24.300    14.99249  11810400\n",
            "2007-01-05  24.250  24.285 24.085   24.130    14.88761  11607000\n",
            "2007-01-08  24.005  24.335 24.005   24.285    14.98324  17551000\n",
            "2007-01-09  24.270  24.415 24.230   24.305    14.99558  13724000\n",
            "2007-01-10  24.245  24.395 24.185   24.340    15.01717   8928000\n"
          ]
        }
      ]
    },
    {
      "cell_type": "markdown",
      "source": [
        "View the tail of the data\n"
      ],
      "metadata": {
        "id": "GhYSBRYOwhvr"
      }
    },
    {
      "cell_type": "code",
      "source": [
        "%%R \n",
        "tail(Coca_Cola)"
      ],
      "metadata": {
        "colab": {
          "base_uri": "https://localhost:8080/"
        },
        "id": "Bgmn4U8owY0v",
        "outputId": "c256dd60-a7f5-45d3-da6c-6def798b5d6c"
      },
      "execution_count": 17,
      "outputs": [
        {
          "output_type": "stream",
          "name": "stdout",
          "text": [
            "           KO.open KO.high KO.low KO.close KO.adjclose KO.volume\n",
            "2022-10-21   55.00   56.11  54.99    55.96       55.96  15028000\n",
            "2022-10-24   56.64   57.73  56.57    57.57       57.57  17416700\n",
            "2022-10-25   59.04   59.11  57.75    58.95       58.95  28829900\n",
            "2022-10-26   59.01   59.78  58.86    59.39       59.39  15831400\n",
            "2022-10-27   59.77   59.84  59.38    59.53       59.53  16026100\n",
            "2022-10-28   59.57   60.91  59.47    60.76       60.76  12887100\n"
          ]
        }
      ]
    },
    {
      "cell_type": "markdown",
      "source": [
        "Find the type of object we have recieved"
      ],
      "metadata": {
        "id": "lXVZKw4DypIY"
      }
    },
    {
      "cell_type": "code",
      "source": [
        "%%R \n",
        "str(Coca_Cola)"
      ],
      "metadata": {
        "colab": {
          "base_uri": "https://localhost:8080/"
        },
        "id": "qzBTzeTnwnPe",
        "outputId": "f720c62d-94db-448b-931d-49666e27bf39"
      },
      "execution_count": 25,
      "outputs": [
        {
          "output_type": "stream",
          "name": "stdout",
          "text": [
            "An ‘xts’ object on 2007-01-03/2022-10-28 containing:\n",
            "  Data: num [1:3985, 1:6] 24.2 24.2 24.2 24 24.3 ...\n",
            " - attr(*, \"dimnames\")=List of 2\n",
            "  ..$ : NULL\n",
            "  ..$ : chr [1:6, 1] \"KO.open\" \"KO.high\" \"KO.low\" \"KO.close\" ...\n",
            "  .. ..- attr(*, \"dimnames\")=List of 2\n",
            "  .. .. ..$ : NULL\n",
            "  .. .. ..$ : chr \"KO\"\n",
            "  Indexed by objects of class: [Date] TZ: UTC\n",
            "  xts Attributes:  \n",
            " NULL\n"
          ]
        }
      ]
    },
    {
      "cell_type": "code",
      "source": [
        "%%R\n",
        "plot(Coca_Cola$KO.close, main = \"Coca-Cola Stock Price Chart\", xlab = \"date\", ylab = \"Close Price\")"
      ],
      "metadata": {
        "colab": {
          "base_uri": "https://localhost:8080/",
          "height": 497
        },
        "id": "jqaMn9gJywBA",
        "outputId": "4bbdc90b-4fc8-42f5-c360-f61cdcd8e149"
      },
      "execution_count": 29,
      "outputs": [
        {
          "output_type": "display_data",
          "data": {
            "image/png": "[encoded data removed]"
          },
          "metadata": {}
        }
      ]
    }
  ]
}